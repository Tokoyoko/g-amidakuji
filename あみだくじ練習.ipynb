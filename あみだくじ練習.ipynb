{
  "cells": [
    {
      "cell_type": "markdown",
      "metadata": {
        "id": "view-in-github",
        "colab_type": "text"
      },
      "source": [
        "<a href=\"https://colab.research.google.com/github/Tokoyoko/g-amidakuji/blob/main/%E3%81%82%E3%81%BF%E3%81%A0%E3%81%8F%E3%81%98%E7%B7%B4%E7%BF%92.ipynb\" target=\"_parent\"><img src=\"https://colab.research.google.com/assets/colab-badge.svg\" alt=\"Open In Colab\"/></a>"
      ]
    },
    {
      "cell_type": "code",
      "execution_count": null,
      "metadata": {
        "colab": {
          "base_uri": "https://localhost:8080/"
        },
        "id": "FfoNG5n_aVUb",
        "outputId": "c6440219-a1c1-490d-c423-75c104511776"
      },
      "outputs": [
        {
          "name": "stdout",
          "output_type": "stream",
          "text": [
            "{3: 0.044, 16: 0.028, 28: 0.01, 37: 0.007, 25: 0.014, 12: 0.034, 11: 0.038, 15: 0.036, 30: 0.017, 5: 0.052, 14: 0.029, 10: 0.04, 24: 0.022, 9: 0.044, 22: 0.016, 6: 0.053, 7: 0.042, 31: 0.008, 18: 0.022, 2: 0.053, 4: 0.056, 17: 0.027, 20: 0.027, 21: 0.024, 19: 0.019, 8: 0.05, 13: 0.035, 1: 0.055, 27: 0.013, 39: 0.007, 26: 0.012, 23: 0.019, 29: 0.009, 35: 0.004, 32: 0.008, 40: 0.003, 33: 0.008, 34: 0.006, 38: 0.005, 36: 0.004}\n"
          ]
        }
      ],
      "source": [
        "import random\n",
        "from typing import KeysView\n",
        "import numpy as np\n",
        "\n",
        "def amida(m,n,t):\n",
        "  ap={}\n",
        "  aap={}\n",
        "  s1={}\n",
        "  for v in range(t):\n",
        "   m_dict={}\n",
        "   n_list=[]\n",
        "   for num in range(1,m+1):\n",
        "    m_dict[num]=num\n",
        "   for write in range(n):\n",
        "    a=random.randint(1,m-1)\n",
        "    n_list.append({'k':a,'v':a+1})\n",
        "   for i in range(n):\n",
        "    k1=n_list[i]['k']\n",
        "    k2=n_list[i]['v']\n",
        "    k3=[x for x,y in m_dict.items() if y==k1][0]\n",
        "    k4=[f for f,g in m_dict.items() if g==k2][0]\n",
        "    m_dict[k3],m_dict[k4]=m_dict[k4],m_dict[k3]\n",
        "   for s,g in m_dict.items():\n",
        "    if (s,g) in ap:\n",
        "     ap[(s,g)]=ap[(s,g)]+1\n",
        "    else:\n",
        "     ap[s,g]=1\n",
        "  for h,j in ap.items():\n",
        "    aap[h]=j/t\n",
        "  for d in aap.keys():\n",
        "    if d[0]==1:\n",
        "      s1[d[1]]=aap[d]\n",
        "      \n",
        "amida(8,5000,1000)\n"
      ]
    },
    {
      "cell_type": "code",
      "execution_count": null,
      "metadata": {
        "colab": {
          "base_uri": "https://localhost:8080/"
        },
        "id": "wI38pufExBwp",
        "outputId": "d8d44e27-8fdc-43a7-aa82-d04195a6b705"
      },
      "outputs": [
        {
          "data": {
            "text/plain": [
              "[0.0,\n",
              " 0.11346475223610195,\n",
              " 0.07262575300814443,\n",
              " 0.041197694110229034,\n",
              " 0.033049205739321484,\n",
              " 0.01791647286716892,\n",
              " 0.01543534904043313,\n",
              " 0.0165604951616792,\n",
              " 0.010874281585465771,\n",
              " 0.004301162633521313,\n",
              " 0.010464224768228173,\n",
              " 0.011280514172678483,\n",
              " 0.011456439237389602,\n",
              " 0.011832159566199233,\n",
              " 0.008930285549745872,\n",
              " 0.0095655632348545,\n",
              " 0.01452583904633395,\n",
              " 0.012247448713915891,\n",
              " 0.0093674969975976,\n",
              " 0.011335784048754639,\n",
              " 0.014517231140957973,\n",
              " 0.008860022573334679,\n",
              " 0.005958187643906495,\n",
              " 0.012599603168354153,\n",
              " 0.007968688725254611,\n",
              " 0.01046422476822818,\n",
              " 0.010535653752852743,\n",
              " 0.013285330255586423,\n",
              " 0.008645808232895295,\n",
              " 0.009192388155425116,\n",
              " 0.00972111104761179,\n",
              " 0.007762087348130014,\n",
              " 0.01630950643030009,\n",
              " 0.009617692030835671,\n",
              " 0.00844097150806707,\n",
              " 0.008246211251235324,\n",
              " 0.00868907359849138,\n",
              " 0.011090536506409418,\n",
              " 0.008336666000266538,\n",
              " 0.008817596044274196,\n",
              " 0.007681145747868609,\n",
              " 0.011768602295939817,\n",
              " 0.011434596626029267,\n",
              " 0.013527749258468683,\n",
              " 0.01325707358356285,\n",
              " 0.010641898326896375,\n",
              " 0.014756354563373706,\n",
              " 0.017564168070250293,\n",
              " 0.014671400751121206,\n",
              " 0.009082951062292479,\n",
              " 0.01120267825120404]"
            ]
          },
          "execution_count": 37,
          "metadata": {},
          "output_type": "execute_result"
        }
      ],
      "source": [
        "my"
      ]
    },
    {
      "cell_type": "code",
      "execution_count": null,
      "metadata": {
        "colab": {
          "base_uri": "https://localhost:8080/",
          "height": 297
        },
        "id": "qUVhfF-7KaWB",
        "outputId": "c9751a4d-8238-4a26-fb9b-4790537d2415"
      },
      "outputs": [
        {
          "name": "stdout",
          "output_type": "stream",
          "text": [
            "No value stays within the specified range.\n"
          ]
        },
        {
          "data": {
            "image/png": "[encoded data removed]",
            "text/plain": [
              "<Figure size 432x288 with 1 Axes>"
            ]
          },
          "metadata": {},
          "output_type": "display_data"
        }
      ],
      "source": [
        "import numpy as np\n",
        "import matplotlib.pyplot as plt\n",
        "\n",
        "# xとyの値を用意する\n",
        "x = mx\n",
        "y = my\n",
        "\n",
        "# グラフを描画する\n",
        "plt.plot(x, y)\n",
        "plt.xlabel('x')\n",
        "plt.ylabel('y')\n",
        "plt.grid()\n",
        "\n",
        "# グラフが収まる範囲を定義する\n",
        "target_y =1/8\n",
        "percent = 0.05  # 5%\n",
        "target_range = [target_y * (1 - percent), target_y * (1 + percent)]\n",
        "\n",
        "# 収まる範囲にある値を求める\n",
        "for i in range(len(y)):\n",
        "    if target_range[0] <= y[i] <= target_range[1]:\n",
        "        print(f\"The value that stays within {percent*100}% of {target_y} is {x[i]}\")\n",
        "        break\n",
        "else:\n",
        "    print(\"No value stays within the specified range.\")\n"
      ]
    },
    {
      "cell_type": "code",
      "execution_count": null,
      "metadata": {
        "colab": {
          "base_uri": "https://localhost:8080/",
          "height": 138
        },
        "id": "JHeEzuS3XzDf",
        "outputId": "e63b8d4a-916d-479f-ad05-8169e691b2d0"
      },
      "outputs": [
        {
          "ename": "SyntaxError",
          "evalue": "ignored",
          "output_type": "error",
          "traceback": [
            "\u001b[0;36m  File \u001b[0;32m\"<ipython-input-62-0ce6c7b529b5>\"\u001b[0;36m, line \u001b[0;32m1\u001b[0m\n\u001b[0;31m    or s in range(len(my)+1):\u001b[0m\n\u001b[0m    ^\u001b[0m\n\u001b[0;31mSyntaxError\u001b[0m\u001b[0;31m:\u001b[0m invalid syntax\n"
          ]
        }
      ],
      "source": [
        "for s in range(len(my)+1):\n",
        "  if my[s]<=1/8*0.05:\n",
        "    print(s*20)\n",
        "    break"
      ]
    },
    {
      "cell_type": "code",
      "execution_count": null,
      "metadata": {
        "colab": {
          "base_uri": "https://localhost:8080/"
        },
        "id": "muglYCsTVw3K",
        "outputId": "5c45cb99-cef4-4ee5-c849-6acc493995d6"
      },
      "outputs": [
        {
          "name": "stdout",
          "output_type": "stream",
          "text": [
            "0.00625\n"
          ]
        },
        {
          "data": {
            "text/plain": [
              "[0.875,\n",
              " 0.194,\n",
              " 0.11399999999999999,\n",
              " 0.07100000000000001,\n",
              " 0.05499999999999999,\n",
              " 0.021000000000000005,\n",
              " 0.03,\n",
              " 0.023999999999999994,\n",
              " 0.027999999999999997,\n",
              " 0.014000000000000012,\n",
              " 0.016999999999999987,\n",
              " 0.013000000000000012,\n",
              " 0.019000000000000003,\n",
              " 0.017999999999999988,\n",
              " 0.01999999999999999,\n",
              " 0.023000000000000007,\n",
              " 0.015,\n",
              " 0.015000000000000013,\n",
              " 0.018000000000000002,\n",
              " 0.028999999999999998,\n",
              " 0.012999999999999998,\n",
              " 0.016999999999999987,\n",
              " 0.021000000000000005,\n",
              " 0.022999999999999993,\n",
              " 0.01899999999999999,\n",
              " 0.014000000000000012,\n",
              " 0.021999999999999992,\n",
              " 0.021000000000000005,\n",
              " 0.020000000000000004,\n",
              " 0.023999999999999994,\n",
              " 0.013000000000000012,\n",
              " 0.019000000000000003,\n",
              " 0.015000000000000013,\n",
              " 0.021999999999999992,\n",
              " 0.031,\n",
              " 0.022999999999999993,\n",
              " 0.017,\n",
              " 0.018000000000000002,\n",
              " 0.021999999999999992,\n",
              " 0.010999999999999996,\n",
              " 0.025999999999999995,\n",
              " 0.01899999999999999,\n",
              " 0.01999999999999999,\n",
              " 0.021000000000000005,\n",
              " 0.024999999999999994,\n",
              " 0.015999999999999986,\n",
              " 0.017999999999999988,\n",
              " 0.007999999999999993,\n",
              " 0.020000000000000004,\n",
              " 0.013000000000000012,\n",
              " 0.016999999999999987]"
            ]
          },
          "execution_count": 54,
          "metadata": {},
          "output_type": "execute_result"
        }
      ],
      "source": [
        "print(1/8*0.05)\n",
        "my\n"
      ]
    },
    {
      "cell_type": "code",
      "execution_count": null,
      "metadata": {
        "colab": {
          "background_save": true
        },
        "id": "PV6sOsjAJGOL",
        "outputId": "4bd59b1e-5678-4409-9ceb-cd4eadd6461e"
      },
      "outputs": [
        {
          "ename": "KeyboardInterrupt",
          "evalue": "ignored",
          "output_type": "error",
          "traceback": [
            "\u001b[0;31m---------------------------------------------------------------------------\u001b[0m",
            "\u001b[0;31mKeyboardInterrupt\u001b[0m                         Traceback (most recent call last)",
            "\u001b[0;32m<ipython-input-4-f1f1fd6701c9>\u001b[0m in \u001b[0;36m<module>\u001b[0;34m\u001b[0m\n\u001b[1;32m      1\u001b[0m \u001b[0;32mfrom\u001b[0m \u001b[0mmatplotlib\u001b[0m \u001b[0;32mimport\u001b[0m \u001b[0mpyplot\u001b[0m\u001b[0;34m\u001b[0m\u001b[0;34m\u001b[0m\u001b[0m\n\u001b[1;32m      2\u001b[0m \u001b[0mmx\u001b[0m\u001b[0;34m=\u001b[0m\u001b[0;34m[\u001b[0m\u001b[0mx\u001b[0m \u001b[0;32mfor\u001b[0m \u001b[0mx\u001b[0m \u001b[0;32min\u001b[0m \u001b[0mrange\u001b[0m\u001b[0;34m(\u001b[0m\u001b[0;36m3\u001b[0m\u001b[0;34m,\u001b[0m\u001b[0;36m41\u001b[0m\u001b[0;34m)\u001b[0m\u001b[0;34m]\u001b[0m\u001b[0;34m\u001b[0m\u001b[0;34m\u001b[0m\u001b[0m\n\u001b[0;32m----> 3\u001b[0;31m \u001b[0mmy\u001b[0m\u001b[0;34m=\u001b[0m\u001b[0;34m[\u001b[0m\u001b[0mamida3\u001b[0m\u001b[0;34m(\u001b[0m\u001b[0mx\u001b[0m\u001b[0;34m,\u001b[0m\u001b[0;36m20000\u001b[0m\u001b[0;34m)\u001b[0m \u001b[0;32mfor\u001b[0m \u001b[0mx\u001b[0m \u001b[0;32min\u001b[0m \u001b[0mrange\u001b[0m\u001b[0;34m(\u001b[0m\u001b[0;36m3\u001b[0m\u001b[0;34m,\u001b[0m\u001b[0;36m41\u001b[0m\u001b[0;34m)\u001b[0m\u001b[0;34m]\u001b[0m\u001b[0;34m\u001b[0m\u001b[0;34m\u001b[0m\u001b[0m\n\u001b[0m\u001b[1;32m      4\u001b[0m \u001b[0mpyplot\u001b[0m\u001b[0;34m.\u001b[0m\u001b[0mplot\u001b[0m\u001b[0;34m(\u001b[0m\u001b[0mmx\u001b[0m\u001b[0;34m,\u001b[0m\u001b[0mmy\u001b[0m\u001b[0;34m)\u001b[0m\u001b[0;34m\u001b[0m\u001b[0;34m\u001b[0m\u001b[0m\n\u001b[1;32m      5\u001b[0m \u001b[0mpyplot\u001b[0m\u001b[0;34m.\u001b[0m\u001b[0mshow\u001b[0m\u001b[0;34m(\u001b[0m\u001b[0;34m)\u001b[0m\u001b[0;34m\u001b[0m\u001b[0;34m\u001b[0m\u001b[0m\n",
            "\u001b[0;32m<ipython-input-4-f1f1fd6701c9>\u001b[0m in \u001b[0;36m<listcomp>\u001b[0;34m(.0)\u001b[0m\n\u001b[1;32m      1\u001b[0m \u001b[0;32mfrom\u001b[0m \u001b[0mmatplotlib\u001b[0m \u001b[0;32mimport\u001b[0m \u001b[0mpyplot\u001b[0m\u001b[0;34m\u001b[0m\u001b[0;34m\u001b[0m\u001b[0m\n\u001b[1;32m      2\u001b[0m \u001b[0mmx\u001b[0m\u001b[0;34m=\u001b[0m\u001b[0;34m[\u001b[0m\u001b[0mx\u001b[0m \u001b[0;32mfor\u001b[0m \u001b[0mx\u001b[0m \u001b[0;32min\u001b[0m \u001b[0mrange\u001b[0m\u001b[0;34m(\u001b[0m\u001b[0;36m3\u001b[0m\u001b[0;34m,\u001b[0m\u001b[0;36m41\u001b[0m\u001b[0;34m)\u001b[0m\u001b[0;34m]\u001b[0m\u001b[0;34m\u001b[0m\u001b[0;34m\u001b[0m\u001b[0m\n\u001b[0;32m----> 3\u001b[0;31m \u001b[0mmy\u001b[0m\u001b[0;34m=\u001b[0m\u001b[0;34m[\u001b[0m\u001b[0mamida3\u001b[0m\u001b[0;34m(\u001b[0m\u001b[0mx\u001b[0m\u001b[0;34m,\u001b[0m\u001b[0;36m20000\u001b[0m\u001b[0;34m)\u001b[0m \u001b[0;32mfor\u001b[0m \u001b[0mx\u001b[0m \u001b[0;32min\u001b[0m \u001b[0mrange\u001b[0m\u001b[0;34m(\u001b[0m\u001b[0;36m3\u001b[0m\u001b[0;34m,\u001b[0m\u001b[0;36m41\u001b[0m\u001b[0;34m)\u001b[0m\u001b[0;34m]\u001b[0m\u001b[0;34m\u001b[0m\u001b[0;34m\u001b[0m\u001b[0m\n\u001b[0m\u001b[1;32m      4\u001b[0m \u001b[0mpyplot\u001b[0m\u001b[0;34m.\u001b[0m\u001b[0mplot\u001b[0m\u001b[0;34m(\u001b[0m\u001b[0mmx\u001b[0m\u001b[0;34m,\u001b[0m\u001b[0mmy\u001b[0m\u001b[0;34m)\u001b[0m\u001b[0;34m\u001b[0m\u001b[0;34m\u001b[0m\u001b[0m\n\u001b[1;32m      5\u001b[0m \u001b[0mpyplot\u001b[0m\u001b[0;34m.\u001b[0m\u001b[0mshow\u001b[0m\u001b[0;34m(\u001b[0m\u001b[0;34m)\u001b[0m\u001b[0;34m\u001b[0m\u001b[0;34m\u001b[0m\u001b[0m\n",
            "\u001b[0;32m<ipython-input-3-2f3145cb33c4>\u001b[0m in \u001b[0;36mamida3\u001b[0;34m(m, t)\u001b[0m\n\u001b[1;32m     15\u001b[0m        \u001b[0ma\u001b[0m\u001b[0;34m=\u001b[0m\u001b[0mrandom\u001b[0m\u001b[0;34m.\u001b[0m\u001b[0mrandint\u001b[0m\u001b[0;34m(\u001b[0m\u001b[0;36m1\u001b[0m\u001b[0;34m,\u001b[0m\u001b[0mm\u001b[0m\u001b[0;34m-\u001b[0m\u001b[0;36m1\u001b[0m\u001b[0;34m)\u001b[0m\u001b[0;34m\u001b[0m\u001b[0;34m\u001b[0m\u001b[0m\n\u001b[1;32m     16\u001b[0m        \u001b[0mk1\u001b[0m\u001b[0;34m=\u001b[0m\u001b[0;34m[\u001b[0m\u001b[0mn\u001b[0m \u001b[0;32mfor\u001b[0m \u001b[0mn\u001b[0m\u001b[0;34m,\u001b[0m\u001b[0mb\u001b[0m \u001b[0;32min\u001b[0m \u001b[0mmd\u001b[0m\u001b[0;34m.\u001b[0m\u001b[0mitems\u001b[0m\u001b[0;34m(\u001b[0m\u001b[0;34m)\u001b[0m \u001b[0;32mif\u001b[0m \u001b[0mb\u001b[0m\u001b[0;34m==\u001b[0m\u001b[0ma\u001b[0m\u001b[0;34m]\u001b[0m\u001b[0;34m[\u001b[0m\u001b[0;36m0\u001b[0m\u001b[0;34m]\u001b[0m\u001b[0;34m\u001b[0m\u001b[0;34m\u001b[0m\u001b[0m\n\u001b[0;32m---> 17\u001b[0;31m        \u001b[0mk2\u001b[0m\u001b[0;34m=\u001b[0m\u001b[0;34m[\u001b[0m\u001b[0mc\u001b[0m \u001b[0;32mfor\u001b[0m \u001b[0mc\u001b[0m\u001b[0;34m,\u001b[0m\u001b[0md\u001b[0m \u001b[0;32min\u001b[0m \u001b[0mmd\u001b[0m\u001b[0;34m.\u001b[0m\u001b[0mitems\u001b[0m\u001b[0;34m(\u001b[0m\u001b[0;34m)\u001b[0m \u001b[0;32mif\u001b[0m \u001b[0md\u001b[0m\u001b[0;34m==\u001b[0m\u001b[0ma\u001b[0m\u001b[0;34m+\u001b[0m\u001b[0;36m1\u001b[0m\u001b[0;34m]\u001b[0m\u001b[0;34m[\u001b[0m\u001b[0;36m0\u001b[0m\u001b[0;34m]\u001b[0m\u001b[0;34m\u001b[0m\u001b[0;34m\u001b[0m\u001b[0m\n\u001b[0m\u001b[1;32m     18\u001b[0m        \u001b[0mmd\u001b[0m\u001b[0;34m[\u001b[0m\u001b[0mk1\u001b[0m\u001b[0;34m]\u001b[0m\u001b[0;34m,\u001b[0m\u001b[0mmd\u001b[0m\u001b[0;34m[\u001b[0m\u001b[0mk2\u001b[0m\u001b[0;34m]\u001b[0m\u001b[0;34m=\u001b[0m\u001b[0mmd\u001b[0m\u001b[0;34m[\u001b[0m\u001b[0mk2\u001b[0m\u001b[0;34m]\u001b[0m\u001b[0;34m,\u001b[0m\u001b[0mmd\u001b[0m\u001b[0;34m[\u001b[0m\u001b[0mk1\u001b[0m\u001b[0;34m]\u001b[0m\u001b[0;34m\u001b[0m\u001b[0;34m\u001b[0m\u001b[0m\n\u001b[1;32m     19\u001b[0m      \u001b[0;32mif\u001b[0m \u001b[0mmd\u001b[0m\u001b[0;34m[\u001b[0m\u001b[0;36m1\u001b[0m\u001b[0;34m]\u001b[0m \u001b[0;32min\u001b[0m \u001b[0ms1\u001b[0m\u001b[0;34m:\u001b[0m\u001b[0;34m\u001b[0m\u001b[0;34m\u001b[0m\u001b[0m\n",
            "\u001b[0;32m<ipython-input-3-2f3145cb33c4>\u001b[0m in \u001b[0;36m<listcomp>\u001b[0;34m(.0)\u001b[0m\n\u001b[1;32m     15\u001b[0m        \u001b[0ma\u001b[0m\u001b[0;34m=\u001b[0m\u001b[0mrandom\u001b[0m\u001b[0;34m.\u001b[0m\u001b[0mrandint\u001b[0m\u001b[0;34m(\u001b[0m\u001b[0;36m1\u001b[0m\u001b[0;34m,\u001b[0m\u001b[0mm\u001b[0m\u001b[0;34m-\u001b[0m\u001b[0;36m1\u001b[0m\u001b[0;34m)\u001b[0m\u001b[0;34m\u001b[0m\u001b[0;34m\u001b[0m\u001b[0m\n\u001b[1;32m     16\u001b[0m        \u001b[0mk1\u001b[0m\u001b[0;34m=\u001b[0m\u001b[0;34m[\u001b[0m\u001b[0mn\u001b[0m \u001b[0;32mfor\u001b[0m \u001b[0mn\u001b[0m\u001b[0;34m,\u001b[0m\u001b[0mb\u001b[0m \u001b[0;32min\u001b[0m \u001b[0mmd\u001b[0m\u001b[0;34m.\u001b[0m\u001b[0mitems\u001b[0m\u001b[0;34m(\u001b[0m\u001b[0;34m)\u001b[0m \u001b[0;32mif\u001b[0m \u001b[0mb\u001b[0m\u001b[0;34m==\u001b[0m\u001b[0ma\u001b[0m\u001b[0;34m]\u001b[0m\u001b[0;34m[\u001b[0m\u001b[0;36m0\u001b[0m\u001b[0;34m]\u001b[0m\u001b[0;34m\u001b[0m\u001b[0;34m\u001b[0m\u001b[0m\n\u001b[0;32m---> 17\u001b[0;31m        \u001b[0mk2\u001b[0m\u001b[0;34m=\u001b[0m\u001b[0;34m[\u001b[0m\u001b[0mc\u001b[0m \u001b[0;32mfor\u001b[0m \u001b[0mc\u001b[0m\u001b[0;34m,\u001b[0m\u001b[0md\u001b[0m \u001b[0;32min\u001b[0m \u001b[0mmd\u001b[0m\u001b[0;34m.\u001b[0m\u001b[0mitems\u001b[0m\u001b[0;34m(\u001b[0m\u001b[0;34m)\u001b[0m \u001b[0;32mif\u001b[0m \u001b[0md\u001b[0m\u001b[0;34m==\u001b[0m\u001b[0ma\u001b[0m\u001b[0;34m+\u001b[0m\u001b[0;36m1\u001b[0m\u001b[0;34m]\u001b[0m\u001b[0;34m[\u001b[0m\u001b[0;36m0\u001b[0m\u001b[0;34m]\u001b[0m\u001b[0;34m\u001b[0m\u001b[0;34m\u001b[0m\u001b[0m\n\u001b[0m\u001b[1;32m     18\u001b[0m        \u001b[0mmd\u001b[0m\u001b[0;34m[\u001b[0m\u001b[0mk1\u001b[0m\u001b[0;34m]\u001b[0m\u001b[0;34m,\u001b[0m\u001b[0mmd\u001b[0m\u001b[0;34m[\u001b[0m\u001b[0mk2\u001b[0m\u001b[0;34m]\u001b[0m\u001b[0;34m=\u001b[0m\u001b[0mmd\u001b[0m\u001b[0;34m[\u001b[0m\u001b[0mk2\u001b[0m\u001b[0;34m]\u001b[0m\u001b[0;34m,\u001b[0m\u001b[0mmd\u001b[0m\u001b[0;34m[\u001b[0m\u001b[0mk1\u001b[0m\u001b[0;34m]\u001b[0m\u001b[0;34m\u001b[0m\u001b[0;34m\u001b[0m\u001b[0m\n\u001b[1;32m     19\u001b[0m      \u001b[0;32mif\u001b[0m \u001b[0mmd\u001b[0m\u001b[0;34m[\u001b[0m\u001b[0;36m1\u001b[0m\u001b[0;34m]\u001b[0m \u001b[0;32min\u001b[0m \u001b[0ms1\u001b[0m\u001b[0;34m:\u001b[0m\u001b[0;34m\u001b[0m\u001b[0;34m\u001b[0m\u001b[0m\n",
            "\u001b[0;31mKeyboardInterrupt\u001b[0m: "
          ]
        }
      ],
      "source": [
        "from matplotlib import pyplot\n",
        "mx=[x for x in range(3,41)]\n",
        "my=[amida3(x,20000) for x in range(3,41)]\n",
        "pyplot.plot(mx,my)\n",
        "pyplot.show()"
      ]
    },
    {
      "cell_type": "code",
      "source": [],
      "metadata": {
        "id": "BK9xLscgK49Q"
      },
      "execution_count": null,
      "outputs": []
    },
    {
      "cell_type": "code",
      "execution_count": null,
      "metadata": {
        "colab": {
          "base_uri": "https://localhost:8080/"
        },
        "outputId": "0e42f83a-3908-4df0-b321-4ab74aa372e2",
        "id": "uRN1bw3sK6BT"
      },
      "outputs": [
        {
          "output_type": "stream",
          "name": "stdout",
          "text": [
            "1\n",
            "3\n",
            "9\n",
            "27\n",
            "81\n",
            "243\n",
            "729\n",
            "2187\n",
            "6561\n",
            "19683\n",
            "59049\n"
          ]
        }
      ],
      "source": [
        "import random\n",
        "def amida5(m,t):\n",
        "  d=1\n",
        "  n=0\n",
        "  search=0\n",
        "  while search<=8:\n",
        "    s1={}\n",
        "    for v in range(t):\n",
        "      md=[]\n",
        "      for num in range(1,m+1):\n",
        "        md.append(num)\n",
        "      for wr in range(int(3**n)):\n",
        "        a=random.randint(1,m-1)\n",
        "        k1=md.index(a)\n",
        "        k2=md.index(a+1)\n",
        "        md[k1],md[k2]=md[k2],md[k1]\n",
        "      if md[0] in s1:\n",
        "        s1[md[0]]+=1\n",
        "      else:\n",
        "        s1[md[0]]=1\n",
        "    for h in range(1,m+1):\n",
        "      if h not in s1:\n",
        "        s1[h]=0\n",
        "      else:\n",
        "        s1[h]/=t\n",
        "    j=[abs(a-1/m) for a in s1.values()]\n",
        "    d=max(j)\n",
        "    if d<=1/m*0.05:\n",
        "      search+=1\n",
        "      if search>=8:\n",
        "        break\n",
        "      else:\n",
        "        n=n-1+1/(2**search)\n",
        "    else:\n",
        "      if search<=0:\n",
        "        print(3**n)\n",
        "        n+=1\n",
        "      else:\n",
        "        break\n",
        "    \n",
        "  return int(3**n)\n",
        "amida5(40,50000)"
      ]
    },
    {
      "cell_type": "code",
      "execution_count": null,
      "metadata": {
        "colab": {
          "base_uri": "https://localhost:8080/"
        },
        "outputId": "a497c489-9763-4d50-d318-72617cce1cc9",
        "id": "UKr7BGe-KgLo"
      },
      "outputs": [
        {
          "output_type": "execute_result",
          "data": {
            "text/plain": [
              "172"
            ]
          },
          "metadata": {},
          "execution_count": 5
        }
      ],
      "source": [
        "import math\n",
        "import random\n",
        "def amida5(m,t):\n",
        "  d=1\n",
        "  n=0\n",
        "  search=0\n",
        "  while search<=18:\n",
        "    s1={}\n",
        "    for v in range(t):\n",
        "      md=[]\n",
        "      for num in range(1,m+1):\n",
        "        md.append(num)\n",
        "      for wr in range(int(3**n)):\n",
        "        a=random.randint(1,m-1)\n",
        "        k1=md.index(a)\n",
        "        k2=md.index(a+1)\n",
        "        md[k1],md[k2]=md[k2],md[k1]\n",
        "      if md[0] in s1:\n",
        "        s1[md[0]]+=1\n",
        "      else:\n",
        "        s1[md[0]]=1\n",
        "    for h in range(1,m+1):\n",
        "      if h not in s1:\n",
        "        s1[h]=0\n",
        "      else:\n",
        "        s1[h]/=t\n",
        "    j=[abs(a-1/m) for a in s1.values()]\n",
        "    d=max(j)\n",
        "    if d<=1/m*0.05:\n",
        "      search+=1\n",
        "      if search>=18:\n",
        "        break\n",
        "      else:\n",
        "        n+=-1/2**search\n",
        "    else:\n",
        "      if search<=0:\n",
        "        n+=1\n",
        "      else:\n",
        "        search+=1\n",
        "        n=n+1/2**(search)\n",
        "    \n",
        "  return math.ceil(3**n)\n",
        "amida5(8,50000)"
      ]
    },
    {
      "cell_type": "code",
      "source": [
        "v"
      ],
      "metadata": {
        "id": "A4kF1WgnGGoR"
      },
      "execution_count": null,
      "outputs": []
    },
    {
      "cell_type": "code",
      "source": [],
      "metadata": {
        "id": "QGw1Qy8WCx2C"
      },
      "execution_count": null,
      "outputs": []
    },
    {
      "cell_type": "code",
      "source": [
        "import random\n",
        "def amida5(m,n,t):\n",
        "  s1={}\n",
        "  for v in range(n):\n",
        "    md=[]\n",
        "    for num in range(1,m+1):\n",
        "      md.append(num)\n",
        "    for wr in range(n):\n",
        "      a=random.randint(1,m-1)\n",
        "      k1=md.index(a)\n",
        "      k2=md.index(a+1)\n",
        "      md[k1],md[k2]=md[k2],md[k1]\n",
        "    if md[0] in s1:\n",
        "      s1[md[0]]+=1\n",
        "    else:\n",
        "      s1[md[0]]=1\n",
        "  for h in range(1,m+1):\n",
        "    if h not in s1:\n",
        "      s1[h]=0\n",
        "    else:\n",
        "      s1[h]/=t\n",
        "  j=[abs(a-1/m) for a in s1.values()]\n",
        "  d=max(j)\n",
        "  if d<=1/m*0.05:\n",
        "    \n",
        "\n"
      ],
      "metadata": {
        "id": "wUvtPquJJiw1"
      },
      "execution_count": null,
      "outputs": []
    },
    {
      "cell_type": "code",
      "execution_count": null,
      "metadata": {
        "colab": {
          "base_uri": "https://localhost:8080/"
        },
        "id": "RRcG-zFnV4ev",
        "outputId": "b25a184e-b713-4e7d-bc93-851ce6a44173"
      },
      "outputs": [
        {
          "name": "stdout",
          "output_type": "stream",
          "text": [
            "[1, 2, 3, 4, 5, 6, 7, 8]\n"
          ]
        }
      ],
      "source": [
        "def ami(m,n,t):\n",
        "  for v in range(t):\n",
        "    md=[]\n",
        "    for num in range(1,m+1):\n",
        "      md.append(num)\n",
        "  print(md)\n",
        "ami(8,10,10)"
      ]
    },
    {
      "cell_type": "code",
      "source": [],
      "metadata": {
        "id": "6rAv5ssM62cH",
        "colab": {
          "base_uri": "https://localhost:8080/",
          "height": 174
        },
        "outputId": "5a4a56dc-a165-4dbb-cbfe-d8bc9710493d"
      },
      "execution_count": null,
      "outputs": [
        {
          "output_type": "error",
          "ename": "NameError",
          "evalue": "ignored",
          "traceback": [
            "\u001b[0;31m---------------------------------------------------------------------------\u001b[0m",
            "\u001b[0;31mNameError\u001b[0m                                 Traceback (most recent call last)",
            "\u001b[0;32m<ipython-input-25-bf02d3e338f4>\u001b[0m in \u001b[0;36m<module>\u001b[0;34m\u001b[0m\n\u001b[0;32m----> 1\u001b[0;31m \u001b[0;36m3\u001b[0m\u001b[0;34m**\u001b[0m\u001b[0mn\u001b[0m\u001b[0;34m\u001b[0m\u001b[0;34m\u001b[0m\u001b[0m\n\u001b[0m",
            "\u001b[0;31mNameError\u001b[0m: name 'n' is not defined"
          ]
        }
      ]
    },
    {
      "cell_type": "code",
      "execution_count": null,
      "metadata": {
        "colab": {
          "base_uri": "https://localhost:8080/"
        },
        "id": "yh1-J3hhRbdx",
        "outputId": "840acd18-5e97-4e28-db91-4cfb31f7fc43"
      },
      "outputs": [
        {
          "data": {
            "text/plain": [
              "0.007700000000000012"
            ]
          },
          "execution_count": 58,
          "metadata": {},
          "output_type": "execute_result"
        }
      ],
      "source": [
        "def amida2(m,n,t):\n",
        "  s1={}\n",
        "  for v in range(t):\n",
        "    md={}\n",
        "  \n",
        "    for num in range(1,m+1):\n",
        "      #md.append(num)\n",
        "      md[num]=num\n",
        "    for wr in range(n):\n",
        "      a=random.randint(1,m-1)\n",
        "      k1=[n for n,b in md.items() if b==a][0]\n",
        "      k2=[c for c,d in md.items() if d==a+1][0]\n",
        "      md[k1],md[k2]=md[k2],md[k1]\n",
        "    if md[1] in s1:\n",
        "      s1[md[1]]+=1\n",
        "    else:\n",
        "      s1[md[1]]=1\n",
        "  for p,q in s1.items():\n",
        "    s1[p]=q/t\n",
        "  ab=[abs(1/m-a) for a in s1.values()]\n",
        "  return max(ab)"
      ]
    },
    {
      "cell_type": "code",
      "execution_count": null,
      "metadata": {
        "id": "NEXN_3H2lF22"
      },
      "outputs": [],
      "source": [
        "amida3(40)"
      ]
    },
    {
      "cell_type": "code",
      "execution_count": null,
      "metadata": {
        "id": "7ufiNkg3lWFv",
        "colab": {
          "base_uri": "https://localhost:8080/"
        },
        "outputId": "5f5d52a2-367e-4cda-c445-30bd157f17e4"
      },
      "outputs": [
        {
          "output_type": "stream",
          "name": "stdout",
          "text": [
            "{4: 0.1242, 5: 0.1246, 2: 0.1245, 7: 0.1221, 8: 0.1267, 1: 0.1245, 6: 0.1279, 3: 0.1255}\n"
          ]
        }
      ],
      "source": [
        "import random\n",
        "def amida4(m,n,t):\n",
        "  s1={}\n",
        "  for v in range(t):\n",
        "    md=[]\n",
        "    for num in range(1,m+1):\n",
        "      md.append(num)\n",
        "    for wr in range(n):\n",
        "      a=random.randint(1,m-1)\n",
        "      k1=md.index(a)\n",
        "      k2=md.index(a+1)\n",
        "      md[k1],md[k2]=md[k2],md[k1]\n",
        "    \n",
        "    if md[0] in s1:\n",
        "      s1[md[0]]+=1\n",
        "    else:\n",
        "      s1[md[0]]=1\n",
        "  for h in range(1,m+1):\n",
        "    if h not in s1:\n",
        "      s1[h]=0\n",
        "    else:\n",
        "      s1[h]/=t\n",
        "\n",
        "  print(s1)\n",
        "amida4(8,600,10000)"
      ]
    },
    {
      "cell_type": "code",
      "source": [],
      "metadata": {
        "id": "JVSGM0qdnbte"
      },
      "execution_count": null,
      "outputs": []
    },
    {
      "cell_type": "code",
      "execution_count": null,
      "metadata": {
        "colab": {
          "base_uri": "https://localhost:8080/"
        },
        "outputId": "5f5d52a2-367e-4cda-c445-30bd157f17e4",
        "id": "QAhbhRL5ncJQ"
      },
      "outputs": [
        {
          "output_type": "stream",
          "name": "stdout",
          "text": [
            "{4: 0.1242, 5: 0.1246, 2: 0.1245, 7: 0.1221, 8: 0.1267, 1: 0.1245, 6: 0.1279, 3: 0.1255}\n"
          ]
        }
      ],
      "source": [
        "import random\n",
        "def amida4(m,n,t):\n",
        "  s1={}\n",
        "  for v in range(t):\n",
        "    md=[]\n",
        "    for num in range(1,m+1):\n",
        "      md.append(num)\n",
        "    for wr in range(n):\n",
        "      a=random.randint(1,m-1)\n",
        "      k1=md.index(a)\n",
        "      k2=md.index(a+1)\n",
        "      md[k1],md[k2]=md[k2],md[k1]\n",
        "    \n",
        "    if md[0] in s1:\n",
        "      s1[md[0]]+=1\n",
        "    else:\n",
        "      s1[md[0]]=1\n",
        "  for h in range(1,m+1):\n",
        "    if h not in s1:\n",
        "      s1[h]=0\n",
        "    else:\n",
        "      s1[h]/=t\n",
        "\n",
        "  print(s1)\n",
        "amida4(8,600,10000)"
      ]
    },
    {
      "cell_type": "code",
      "execution_count": null,
      "metadata": {
        "colab": {
          "base_uri": "https://localhost:8080/",
          "height": 301
        },
        "id": "F5lq-nUpd-Og",
        "outputId": "55eb86cb-a864-43ac-9f1e-9f54fda40cf4"
      },
      "outputs": [
        {
          "data": {
            "image/png": "[encoded data removed]",
            "text/plain": [
              "<Figure size 432x288 with 1 Axes>"
            ]
          },
          "metadata": {},
          "output_type": "display_data"
        },
        {
          "name": "stdout",
          "output_type": "stream",
          "text": [
            "単回帰直線の式：y = 151.16x + -766.65\n",
            "2次多項式回帰の式：y = 15.14x^2 + -136.57x + 353.98\n"
          ]
        }
      ],
      "source": [
        "\n",
        "mport numpy as np\n",
        "import matplotlib.pyplot as plt\n",
        "\n",
        "# サンプルデータの生成\n",
        "x = np.array(mx)\n",
        "y = np.array(my)\n",
        "\n",
        "# 単回帰直線の計算\n",
        "a, b = np.polyfit(x, y, 1)\n",
        "y_pred = a * x + b\n",
        "\n",
        "# 2次多項式回帰の計算\n",
        "p = np.polyfit(x, y, 2)\n",
        "y_pred2 = p[0] * x**2 + p[1] * x + p[2]\n",
        "\n",
        "# グラフの描画\n",
        "plt.scatter(x, y) # 散布図を描画\n",
        "plt.plot(x, y_pred, color='red', label=f'y = {a:.2f}x + {b:.2f}') # 単回帰直線を描画\n",
        "plt.plot(x, y_pred2, color='green', label=f'y = {p[0]:.2f}x^2 + {p[1]:.2f}x + {p[2]:.2f}') # 2次多項式回帰を描画\n",
        "plt.legend() # 凡例を表示\n",
        "plt.show()\n",
        "\n",
        "# 近似曲線の式を表示\n",
        "print(f\"単回帰直線の式：y = {a:.2f}x + {b:.2f}\")\n",
        "print(f\"2次多項式回帰の式：y = {p[0]:.2f}x^2 + {p[1]:.2f}x + {p[2]:.2f}\")"
      ]
    },
    {
      "cell_type": "code",
      "execution_count": null,
      "metadata": {
        "id": "gIJtjsAuluIU"
      },
      "outputs": [],
      "source": [
        "import numpy as np\n",
        "import random\n",
        "def amida3(m,t):\n",
        "  d=1\n",
        "  n=0\n",
        "  while d>=1/m*0.05:\n",
        "    s1={}\n",
        "    for v in range(t):\n",
        "     md={}\n",
        "  \n",
        "     for num in range(1,m+1):\n",
        "      #md.append(num)\n",
        "       md[num]=num\n",
        "     for wr in range(n):\n",
        "       a=random.randint(1,m-1)\n",
        "       k1=[n for n,b in md.items() if b==a][0]\n",
        "       k2=[c for c,d in md.items() if d==a+1][0]\n",
        "       md[k1],md[k2]=md[k2],md[k1]\n",
        "     if md[1] in s1:\n",
        "       s1[md[1]]+=1\n",
        "     else:\n",
        "       s1[md[1]]=1\n",
        "    for p,q in s1.items():\n",
        "     s1[p]=q/t\n",
        "    g=[abs(a-1/m) for a in s1.values()]\n",
        "    d=max(g)\n",
        "    n+=9*m-22\n",
        "    if d<=1/m*0.05:\n",
        "      break\n",
        "  return n\n",
        "\n",
        "#amida3(30,10000)"
      ]
    },
    {
      "cell_type": "code",
      "execution_count": null,
      "metadata": {
        "colab": {
          "base_uri": "https://localhost:8080/"
        },
        "id": "757FGnTjxshC",
        "outputId": "15f549c9-d09a-4c30-cfa7-e67b701d859d"
      },
      "outputs": [
        {
          "name": "stdout",
          "output_type": "stream",
          "text": [
            "50\n"
          ]
        }
      ],
      "source": [
        "a=0\n",
        "while a<=50:\n",
        "  a+=1\n",
        "  if a>=50:\n",
        "    print(a)\n",
        "    break"
      ]
    },
    {
      "cell_type": "code",
      "execution_count": null,
      "metadata": {
        "id": "_V-1hPMC0jh5"
      },
      "outputs": [],
      "source": [
        "x=30\n",
        "15.14*(x**2) + -136.57*x + 353.98"
      ]
    },
    {
      "cell_type": "code",
      "execution_count": null,
      "metadata": {
        "id": "zYpJ22X8VcYS"
      },
      "outputs": [],
      "source": [
        "import csv\n",
        "\n",
        "with open('amida.csv', mode='w', newline='') as file:\n",
        "    writer = csv.writer(file)\n",
        "    writer.writerow(mx)\n",
        "    writer.writerow(my)"
      ]
    }
  ],
  "metadata": {
    "colab": {
      "provenance": [],
      "mount_file_id": "1wvwq7INzEW1KVOpTmuk1ITWqcUWOejfP",
      "authorship_tag": "ABX9TyMxEhbEYYU6yuoZp0PAsInJ",
      "include_colab_link": true
    },
    "kernelspec": {
      "display_name": "Python 3",
      "name": "python3"
    },
    "language_info": {
      "name": "python"
    }
  },
  "nbformat": 4,
  "nbformat_minor": 0
}